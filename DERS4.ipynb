{
  "nbformat": 4,
  "nbformat_minor": 0,
  "metadata": {
    "colab": {
      "provenance": []
    },
    "kernelspec": {
      "name": "python3",
      "display_name": "Python 3"
    },
    "language_info": {
      "name": "python"
    }
  },
  "cells": [
    {
      "cell_type": "code",
      "execution_count": 1,
      "metadata": {
        "colab": {
          "base_uri": "https://localhost:8080/"
        },
        "id": "w9KMrZ0udQwp",
        "outputId": "047da2af-beb8-49e7-e7ca-448212680965"
      },
      "outputs": [
        {
          "output_type": "stream",
          "name": "stdout",
          "text": [
            "4\n",
            "3.14159\n",
            "Python - Veri Yapıları ve Algoritmalar\n",
            "True\n",
            "False\n"
          ]
        }
      ],
      "source": [
        "Ders_no = 4   # Integer (int) Veri Türü\n",
        "pi_sayisi = 3.14159  # Float (float) Veri Türü\n",
        "Dersin_ismi = \"Python - Veri Yapıları ve Algoritmalar\" # String (str) Veri Türü\n",
        "durum1 = True\n",
        "durum2 = False\n",
        "\n",
        "print(Ders_no)\n",
        "print(pi_sayisi)\n",
        "print(Dersin_ismi)\n",
        "print(durum1)\n",
        "print(durum2)"
      ]
    },
    {
      "cell_type": "code",
      "source": [
        "a = 7\n",
        "b = 3\n",
        "\n",
        "print(\"Toplama:\", a+b)\n",
        "print(\"Üs Alma: \", a**b)\n",
        "print(\"Mod Alma:\", a%b)\n",
        "print(\"a == b:\", a == b)\n",
        "print(\"a > b:\", a > b)\n",
        "\n"
      ],
      "metadata": {
        "colab": {
          "base_uri": "https://localhost:8080/"
        },
        "id": "RSluHr03g6yu",
        "outputId": "73e72a2e-b102-4bf8-ea5f-585fe31937b7"
      },
      "execution_count": 2,
      "outputs": [
        {
          "output_type": "stream",
          "name": "stdout",
          "text": [
            "Toplama: 10\n",
            "Üs Alma:  343\n",
            "Mod Alma: 1\n",
            "a == b: False\n",
            "a > b: True\n"
          ]
        }
      ]
    },
    {
      "cell_type": "code",
      "source": [
        "x = 7\n",
        "y = 4\n",
        "\n",
        "x += 3 # x = x + 3\n",
        "y -= 3 # y = y - 3\n",
        "\n",
        "print(x)\n",
        "print(y)"
      ],
      "metadata": {
        "colab": {
          "base_uri": "https://localhost:8080/"
        },
        "id": "hENl1meciMlm",
        "outputId": "a5571050-0b7a-4994-80f3-024086ce76f3"
      },
      "execution_count": 3,
      "outputs": [
        {
          "output_type": "stream",
          "name": "stdout",
          "text": [
            "10\n",
            "1\n"
          ]
        }
      ]
    },
    {
      "cell_type": "code",
      "source": [
        "a = 7\n",
        "b = 3\n",
        "\n",
        "print(a & b)\n",
        "print(a | b)\n",
        "print(a ^ b)"
      ],
      "metadata": {
        "colab": {
          "base_uri": "https://localhost:8080/"
        },
        "id": "ufCcvva0nzsB",
        "outputId": "4870b0bb-4b39-40c5-d04d-29ca627ac265"
      },
      "execution_count": 4,
      "outputs": [
        {
          "output_type": "stream",
          "name": "stdout",
          "text": [
            "3\n",
            "7\n",
            "4\n"
          ]
        }
      ]
    }
  ]
}