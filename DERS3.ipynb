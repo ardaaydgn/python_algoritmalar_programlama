{
  "nbformat": 4,
  "nbformat_minor": 0,
  "metadata": {
    "colab": {
      "provenance": [],
      "toc_visible": true
    },
    "kernelspec": {
      "name": "python3",
      "display_name": "Python 3"
    },
    "language_info": {
      "name": "python"
    }
  },
  "cells": [
    {
      "cell_type": "code",
      "execution_count": null,
      "metadata": {
        "colab": {
          "base_uri": "https://localhost:8080/"
        },
        "id": "cFDLNsx-aLMP",
        "outputId": "b3ddee75-6d0a-4c52-91cd-d79974e13a87"
      },
      "outputs": [
        {
          "output_type": "stream",
          "name": "stdout",
          "text": [
            "10\n",
            "20\n",
            "30\n",
            "40\n"
          ]
        }
      ],
      "source": [
        "# geçerli bir değişken tanımı\n",
        "\n",
        "degisken1 = 10\n",
        "degisken2 = 20\n",
        "degisken3 = 30\n",
        "_degisken_4 = 40\n",
        "print(degisken1)\n",
        "print(degisken2)\n",
        "print(degisken3)\n",
        "print(_degisken_4)"
      ]
    },
    {
      "cell_type": "code",
      "source": [
        "#gecersiz değişken tanımlaması\n",
        "\n",
        "1degisken = 50\n",
        "\n",
        "degisken1-4 = 50"
      ],
      "metadata": {
        "colab": {
          "base_uri": "https://localhost:8080/",
          "height": 106
        },
        "id": "9Dfd3l1XeqLo",
        "outputId": "4992c83d-b715-4fdc-f766-fa36a846bc5b"
      },
      "execution_count": null,
      "outputs": [
        {
          "output_type": "error",
          "ename": "SyntaxError",
          "evalue": "invalid decimal literal (<ipython-input-3-d1a9204c0752>, line 3)",
          "traceback": [
            "\u001b[0;36m  File \u001b[0;32m\"<ipython-input-3-d1a9204c0752>\"\u001b[0;36m, line \u001b[0;32m3\u001b[0m\n\u001b[0;31m    1degisken = 50\u001b[0m\n\u001b[0m    ^\u001b[0m\n\u001b[0;31mSyntaxError\u001b[0m\u001b[0;31m:\u001b[0m invalid decimal literal\n"
          ]
        }
      ]
    },
    {
      "cell_type": "code",
      "source": [
        "x = 5\n",
        "y = \"Merhaba Dünya\"\n",
        "\n",
        "print(x)\n",
        "\n",
        "print(y)\n"
      ],
      "metadata": {
        "colab": {
          "base_uri": "https://localhost:8080/"
        },
        "id": "He1FKTUHgFqF",
        "outputId": "11273deb-251d-43d9-a16c-6b4b41d9c4a9"
      },
      "execution_count": null,
      "outputs": [
        {
          "output_type": "stream",
          "name": "stdout",
          "text": [
            "5\n",
            "Merhaba Dünya\n"
          ]
        }
      ]
    },
    {
      "cell_type": "code",
      "source": [
        "a = 10\n",
        "\n",
        "print(type(a), a)"
      ],
      "metadata": {
        "colab": {
          "base_uri": "https://localhost:8080/"
        },
        "id": "FUAWs4F3I1zg",
        "outputId": "3ab668be-7d0d-4977-c654-3c8d5c5b3395"
      },
      "execution_count": 2,
      "outputs": [
        {
          "output_type": "stream",
          "name": "stdout",
          "text": [
            "<class 'int'> 10\n"
          ]
        }
      ]
    },
    {
      "cell_type": "code",
      "source": [
        "b = 20.5\n",
        "\n",
        "print(type(b), b)\n"
      ],
      "metadata": {
        "colab": {
          "base_uri": "https://localhost:8080/"
        },
        "id": "inTRFpo8JXCg",
        "outputId": "ce9f1e93-4b2b-42ec-d117-d276d10d3e37"
      },
      "execution_count": 3,
      "outputs": [
        {
          "output_type": "stream",
          "name": "stdout",
          "text": [
            "<class 'float'> 20.5\n"
          ]
        }
      ]
    },
    {
      "cell_type": "code",
      "source": [
        "# int veri tipinden float'a çevirim işlemi örneği\n",
        "\n",
        "y = 10\n",
        "\n",
        "x = float(y)\n",
        "\n",
        "print(x, type(x))"
      ],
      "metadata": {
        "colab": {
          "base_uri": "https://localhost:8080/"
        },
        "id": "1lzG_abWKxHQ",
        "outputId": "fc2907cf-3410-4944-a751-f212b6d58eac"
      },
      "execution_count": 4,
      "outputs": [
        {
          "output_type": "stream",
          "name": "stdout",
          "text": [
            "10.0 <class 'float'>\n"
          ]
        }
      ]
    },
    {
      "cell_type": "code",
      "source": [
        "# float veri tipinden int veri tipine çevirim örneği\n",
        "\n",
        "y = 10.74\n",
        "\n",
        "x = int(y)\n",
        "\n",
        "print(x, type(x))"
      ],
      "metadata": {
        "colab": {
          "base_uri": "https://localhost:8080/"
        },
        "id": "q_yEutZfL6PL",
        "outputId": "37f8e1bd-8b3d-4b67-d8b5-1e79e7c08758"
      },
      "execution_count": 5,
      "outputs": [
        {
          "output_type": "stream",
          "name": "stdout",
          "text": [
            "10 <class 'int'>\n"
          ]
        }
      ]
    },
    {
      "cell_type": "code",
      "source": [
        "#String - metinsel bilgiyii değişkene atama işlemi\n",
        "\n",
        "c = \"Python Proglama\"\n",
        "\n",
        "print(c, type (c))"
      ],
      "metadata": {
        "colab": {
          "base_uri": "https://localhost:8080/"
        },
        "id": "UJJV8MWKMnsT",
        "outputId": "1fcee551-2be3-492e-d613-060c75170be5"
      },
      "execution_count": 8,
      "outputs": [
        {
          "output_type": "stream",
          "name": "stdout",
          "text": [
            "Python Proglama <class 'str'>\n"
          ]
        }
      ]
    },
    {
      "cell_type": "code",
      "source": [
        "# Boolean (True / Doğru - False / Yanlış) Değişken tanımlaması\n",
        "\n",
        "d = True # 1 - Aktif\n",
        "e = False # 0 - Pasif\n",
        "\n",
        "print(d)\n",
        "print(type(e))\n",
        ""
      ],
      "metadata": {
        "colab": {
          "base_uri": "https://localhost:8080/"
        },
        "id": "eYy7oFMHNTuV",
        "outputId": "573e741a-7ba0-4a14-e741-195e2fad7948"
      },
      "execution_count": 9,
      "outputs": [
        {
          "output_type": "stream",
          "name": "stdout",
          "text": [
            "True\n",
            "<class 'bool'>\n"
          ]
        }
      ]
    },
    {
      "cell_type": "code",
      "source": [
        "# List - liste --> Dizi tanımlaması\n",
        "\n",
        "liste = [1, 2, 3, 4, 5]\n",
        "\n",
        "print(type(liste), liste)"
      ],
      "metadata": {
        "colab": {
          "base_uri": "https://localhost:8080/"
        },
        "id": "JjZv8o0uPN7a",
        "outputId": "36d7c3a6-b384-4173-8b7d-ccd68b0f1bab"
      },
      "execution_count": 10,
      "outputs": [
        {
          "output_type": "stream",
          "name": "stdout",
          "text": [
            "<class 'list'> [1, 2, 3, 4, 5]\n"
          ]
        }
      ]
    },
    {
      "cell_type": "code",
      "source": [
        "# Demet - Tuple Veri Tipi Tanımlaması\n",
        "\n",
        "demet = (1, 2, 3, 4, 5)\n",
        "\n",
        "print(type(demet), demet)\n",
        ""
      ],
      "metadata": {
        "colab": {
          "base_uri": "https://localhost:8080/"
        },
        "id": "OmZDZK1JPiZG",
        "outputId": "80ef8263-fa45-4f07-ba3c-1e0ce30bb228"
      },
      "execution_count": 11,
      "outputs": [
        {
          "output_type": "stream",
          "name": "stdout",
          "text": [
            "<class 'tuple'> (1, 2, 3, 4, 5)\n"
          ]
        }
      ]
    },
    {
      "cell_type": "code",
      "source": [
        "# Dictionary - Sözlük Veri Tipi Tanımlaması --> Öğrenci Notlarını Tutan bir sözlük tanımlaması\n",
        "\n",
        "notlar = {\n",
        "    \"Ali\": 85,\n",
        "    \"Veli\": 90,\n",
        "    \"Ayşe\": 78\n",
        "}\n",
        "\n",
        "notlar[\"Fatma\"] = 95 # yeni öğrenci ekleme yöntemi\n",
        "notlar[\"Ali\"] = 88 # mevucttaki öğrencinin notunu günleme işlemi\n",
        "\n",
        "print(notlar)"
      ],
      "metadata": {
        "colab": {
          "base_uri": "https://localhost:8080/"
        },
        "id": "BFLKxS9IQuqq",
        "outputId": "50d65e98-a99c-42db-94ef-15160e6b70f0"
      },
      "execution_count": 12,
      "outputs": [
        {
          "output_type": "stream",
          "name": "stdout",
          "text": [
            "{'Ali': 88, 'Veli': 90, 'Ayşe': 78, 'Fatma': 95}\n"
          ]
        }
      ]
    },
    {
      "cell_type": "code",
      "source": [
        "\n",
        "print(notlar.keys())# değişkenler alınıyor\n",
        "print(notlar.values()) #değişkenlerin değerleri alınıyor\n",
        "print(notlar.items()) #hem değişkenler hem de değerleri alınıyor\n",
        "\n"
      ],
      "metadata": {
        "colab": {
          "base_uri": "https://localhost:8080/"
        },
        "id": "rTgX4wRubJrc",
        "outputId": "25ef5322-c298-431c-faf7-e3de4f71afd0"
      },
      "execution_count": 15,
      "outputs": [
        {
          "output_type": "stream",
          "name": "stdout",
          "text": [
            "dict_keys(['Ali', 'Veli', 'Ayşe', 'Fatma'])\n",
            "dict_values([88, 90, 78, 95])\n",
            "dict_items([('Ali', 88), ('Veli', 90), ('Ayşe', 78), ('Fatma', 95)])\n"
          ]
        }
      ]
    },
    {
      "cell_type": "code",
      "source": [
        "# Set Küme veri tipi\n",
        "\n",
        "kodyazanlar = {\"Ahmet\", \"Mehmet\", \"Ayşe\"}\n",
        "kodyazmayanlar = {\"Ayşe\", \"Fatma\", \"Veli\"}\n",
        "\n",
        "ortak = kodyazanlar.intersection(kodyazmayanlar)\n",
        "print(\"Kafasına Göre Takılan Arkadaşlar: \", ortak)\n",
        "\n",
        "kod_yazmayanlar = kodyazmayanlar.difference(kodyazanlar)\n",
        "print(\"Kod çalışması yapmayanlar: \", kod_yazmayanlar)\n",
        "\n",
        "imzalistesi = kodyazanlar.union(kodyazmayanlar)\n",
        "print(\"Sınıf İmza Listesi: \", imzalistesi)"
      ],
      "metadata": {
        "colab": {
          "base_uri": "https://localhost:8080/"
        },
        "id": "DEDWb3eIcrak",
        "outputId": "20946a5e-4a80-4223-a50f-fd4dff6d55fd"
      },
      "execution_count": 16,
      "outputs": [
        {
          "output_type": "stream",
          "name": "stdout",
          "text": [
            "Kafasına Göre Takılan Arkadaşlar:  {'Ayşe'}\n",
            "Kod çalışması yapmayanlar:  {'Veli', 'Fatma'}\n",
            "Sınıf İmza Listesi:  {'Veli', 'Fatma', 'Mehmet', 'Ahmet', 'Ayşe'}\n"
          ]
        }
      ]
    },
    {
      "cell_type": "code",
      "source": [
        "giris = input(\"Bir Sayı Giriniz:\")\n",
        "\n",
        "print(giris)"
      ],
      "metadata": {
        "colab": {
          "base_uri": "https://localhost:8080/"
        },
        "id": "tWkgL5M_e9w_",
        "outputId": "ef97a44b-53b9-44f5-e898-54dfa55ea397"
      },
      "execution_count": 17,
      "outputs": [
        {
          "output_type": "stream",
          "name": "stdout",
          "text": [
            "Bir Sayı Giriniz:12345\n",
            "12345\n"
          ]
        }
      ]
    },
    {
      "cell_type": "code",
      "source": [],
      "metadata": {
        "id": "BRO__J7GgEuk"
      },
      "execution_count": null,
      "outputs": []
    },
    {
      "cell_type": "code",
      "source": [
        "giris = input(\"Bir Sayı Giriniz:\")\n",
        "try:\n",
        "    numara = float(giris)\n",
        "    print(\"Girilen Sayı: \", numara)\n",
        "except ValueError:\n",
        "    print(\"Hatalı Bilgi Girişi Yaptınız Lütfen Tekrar Deneyiniz!\")"
      ],
      "metadata": {
        "colab": {
          "base_uri": "https://localhost:8080/"
        },
        "id": "7zCunTI4f6y9",
        "outputId": "5cd70ea9-d5bc-48c9-d8c9-8799c29b672b"
      },
      "execution_count": 19,
      "outputs": [
        {
          "output_type": "stream",
          "name": "stdout",
          "text": [
            "Bir Sayı Giriniz:a\n",
            "Hatalı Bilgi Girişi Yaptınız Lütfen Tekrar Deneyiniz!\n"
          ]
        }
      ]
    },
    {
      "cell_type": "code",
      "source": [
        "import random\n",
        "\n",
        "rastgele = random.random() # random fonksiyonu bize 0 ile 1 arasında rastgele bir sayı üreten fonksiyondur.\n",
        "\n",
        "print(\"Rastgele Gelen Deger: \", rastgele)\n",
        ""
      ],
      "metadata": {
        "colab": {
          "base_uri": "https://localhost:8080/"
        },
        "id": "LBiuzHdfiebO",
        "outputId": "d53bc5bd-46af-44b4-fba4-07a6d5157c4f"
      },
      "execution_count": 20,
      "outputs": [
        {
          "output_type": "stream",
          "name": "stdout",
          "text": [
            "Rastgele Gelen Deger:  0.6048287986677812\n"
          ]
        }
      ]
    },
    {
      "cell_type": "code",
      "source": [
        "import random\n",
        "\n",
        "rastgele2 = random.randint(1, 10) # randint fonksiyonu bize istediğimiz aralıkta rastgele bir sayı üreten fonksiyondur.\n",
        "\n",
        "print(\"Rastgele Gelen Deger: \", rastgele2)"
      ],
      "metadata": {
        "colab": {
          "base_uri": "https://localhost:8080/"
        },
        "id": "ODMD5teLi3WW",
        "outputId": "153ce3c3-f1cd-43d9-a147-d25ff343188f"
      },
      "execution_count": 27,
      "outputs": [
        {
          "output_type": "stream",
          "name": "stdout",
          "text": [
            "Rastgele Gelen Deger:  10\n"
          ]
        }
      ]
    }
  ]
}